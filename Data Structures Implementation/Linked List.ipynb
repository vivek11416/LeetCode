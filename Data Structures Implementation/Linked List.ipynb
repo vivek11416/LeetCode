{
 "cells": [
  {
   "cell_type": "raw",
   "source": [
    "Linked list are of three types : Singly linked list , doubly linked list , circular linked list"
   ],
   "metadata": {
    "collapsed": false
   }
  },
  {
   "cell_type": "code",
   "execution_count": 2,
   "metadata": {
    "collapsed": true,
    "ExecuteTime": {
     "end_time": "2023-12-08T11:39:20.213689300Z",
     "start_time": "2023-12-08T11:39:20.187547Z"
    }
   },
   "outputs": [],
   "source": [
    "class Node:\n",
    "    def __init__(self,data=None):\n",
    "        self.data = data\n",
    "        self.next = None\n"
   ]
  },
  {
   "cell_type": "code",
   "execution_count": 3,
   "outputs": [],
   "source": [
    "n1 = Node('eggs')\n",
    "n2 = Node('ham')\n",
    "n3 = Node('spam')"
   ],
   "metadata": {
    "collapsed": false,
    "ExecuteTime": {
     "end_time": "2023-12-08T11:39:20.267401300Z",
     "start_time": "2023-12-08T11:39:20.201546900Z"
    }
   }
  },
  {
   "cell_type": "code",
   "execution_count": 4,
   "outputs": [],
   "source": [
    "n1.next = n2\n",
    "n2.next = n3"
   ],
   "metadata": {
    "collapsed": false,
    "ExecuteTime": {
     "end_time": "2023-12-08T11:39:20.267401300Z",
     "start_time": "2023-12-08T11:39:20.215768100Z"
    }
   }
  },
  {
   "cell_type": "raw",
   "source": [
    "Operation performed on linked list:\n",
    "\n",
    "Traversing the list\n",
    "Inserting data item in the list\n",
    "    in beginning\n",
    "    in the end\n",
    "    at any given position\n",
    "Deleting an item\n",
    "    deleting first node\n",
    "    deleting last node\n",
    "    deleation at any position"
   ],
   "metadata": {
    "collapsed": false
   }
  },
  {
   "cell_type": "code",
   "execution_count": 5,
   "outputs": [
    {
     "name": "stdout",
     "output_type": "stream",
     "text": [
      "eggs\n",
      "ham\n",
      "spam\n"
     ]
    }
   ],
   "source": [
    "#Single Linked list traversal - method 1\n",
    "current = n1\n",
    "while current:\n",
    "    print(current.data)\n",
    "    current = current.next"
   ],
   "metadata": {
    "collapsed": false,
    "ExecuteTime": {
     "end_time": "2023-12-08T11:39:20.267401300Z",
     "start_time": "2023-12-08T11:39:20.231758Z"
    }
   }
  },
  {
   "cell_type": "code",
   "execution_count": 6,
   "outputs": [],
   "source": [
    "#Single Linked list traversal - method 2\n",
    "def iter(self):\n",
    "    current = self.head\n",
    "    while current:\n",
    "        val = current.data\n",
    "        current = current.next\n",
    "        yield val"
   ],
   "metadata": {
    "collapsed": false,
    "ExecuteTime": {
     "end_time": "2023-12-08T11:39:20.267401300Z",
     "start_time": "2023-12-08T11:39:20.248826300Z"
    }
   }
  },
  {
   "cell_type": "code",
   "execution_count": 7,
   "outputs": [],
   "source": [
    "class SinglyLinkedList:\n",
    "    def __init__(self):\n",
    "        self.head = None"
   ],
   "metadata": {
    "collapsed": false,
    "ExecuteTime": {
     "end_time": "2023-12-08T11:39:20.278950200Z",
     "start_time": "2023-12-08T11:39:20.263465600Z"
    }
   }
  },
  {
   "cell_type": "code",
   "execution_count": 8,
   "outputs": [],
   "source": [
    "#Appending Elements\n",
    "#end of the list\n",
    "class singlyLinkedList:\n",
    "    def __init__(self):\n",
    "        self.head = None\n",
    "        self.size = 0\n",
    "\n",
    "    def append(self,data):\n",
    "        node = Node(data)\n",
    "        if self.head is None:\n",
    "            self.head=node\n",
    "        else:\n",
    "            current = self.head\n",
    "            while current.next:\n",
    "                current = current.next\n",
    "\n",
    "            current.next = node\n"
   ],
   "metadata": {
    "collapsed": false,
    "ExecuteTime": {
     "end_time": "2023-12-08T11:39:20.324308800Z",
     "start_time": "2023-12-08T11:39:20.281286200Z"
    }
   }
  },
  {
   "cell_type": "code",
   "execution_count": 9,
   "outputs": [],
   "source": [
    "words = singlyLinkedList()\n",
    "words.append('egg')\n",
    "words.append('ham ')\n",
    "words.append('spam')\n"
   ],
   "metadata": {
    "collapsed": false,
    "ExecuteTime": {
     "end_time": "2023-12-08T11:39:20.333535200Z",
     "start_time": "2023-12-08T11:39:20.293914100Z"
    }
   }
  },
  {
   "cell_type": "code",
   "execution_count": 10,
   "outputs": [
    {
     "name": "stdout",
     "output_type": "stream",
     "text": [
      "egg\n",
      "ham \n",
      "spam\n"
     ]
    }
   ],
   "source": [
    "current = words.head\n",
    "\n",
    "while current:\n",
    "    print(current.data)\n",
    "    current = current.next"
   ],
   "metadata": {
    "collapsed": false,
    "ExecuteTime": {
     "end_time": "2023-12-08T11:39:20.336259800Z",
     "start_time": "2023-12-08T11:39:20.308329800Z"
    }
   }
  },
  {
   "cell_type": "code",
   "execution_count": 11,
   "outputs": [],
   "source": [
    "# to amke append operation more efficient we can keep a last item pointer\n",
    "class singlyLinkedList:\n",
    "    def __init__(self):\n",
    "        self.tail = None\n",
    "        self.head = None\n",
    "        self.size = 0\n",
    "    def append(self,data):\n",
    "        node = Node(data)\n",
    "        if self.tail:\n",
    "            self.tail.next = node\n",
    "            self.tail = node\n",
    "            self.size += 1\n",
    "        else:\n",
    "            self.head = node\n",
    "            self.tail = node\n",
    "            self.size += 1\n",
    "\n",
    "    def append_at_a_location(self,data,index):\n",
    "        current = self.head\n",
    "        prev = self.head\n",
    "        node = Node(data)\n",
    "        count = 1\n",
    "        while current:\n",
    "            if index == 1:\n",
    "                node.next = current\n",
    "                self.head = node\n",
    "                self.size += 1\n",
    "                #print(count)\n",
    "                return\n",
    "            elif count == index:\n",
    "                node.next= current\n",
    "                prev.next=node\n",
    "                self.size += 1\n",
    "                return\n",
    "            count += 1\n",
    "            prev = current\n",
    "            current = current.next\n",
    "\n",
    "        if count < index:\n",
    "            print(\"The list has less number of elements\")\n",
    "    def append_at_a_matchdata_location(self,data):\n",
    "        current = self.head\n",
    "        prev = self.head\n",
    "        node = Node(data)\n",
    "        while current:\n",
    "            if current.data == data:\n",
    "                node.next = current\n",
    "                prev.next = node\n",
    "                self.size += 1\n",
    "            prev = current\n",
    "            current = current.next\n",
    "\n",
    "    def search(self,data):\n",
    "        for node in self.iter():\n",
    "            if data == node:\n",
    "                return True\n",
    "\n",
    "        return False\n",
    "\n",
    "    def delete_first_node(self):\n",
    "        current = self.head\n",
    "        if self.head is None:\n",
    "            print(\"No data element to delete\")\n",
    "        elif current == self.head:\n",
    "            self.head = current.next\n",
    "\n",
    "    def delete_last_node(self):\n",
    "        current = self.head\n",
    "        prev = self.head\n",
    "        while current:\n",
    "            if current.next is None:\n",
    "                prev.next= None\n",
    "                self.size -= 1\n",
    "            prev = current\n",
    "            current = current.next\n",
    "\n",
    "    def delete(self,data):\n",
    "        current = self.head\n",
    "        prev = self.head\n",
    "        while current:\n",
    "            if current.data == data:\n",
    "                if current == self.head:\n",
    "                    self.head = current.next\n",
    "                else:\n",
    "                    prev.next = current.next\n",
    "\n",
    "                self.size -= 1\n",
    "                return\n",
    "            prev = current\n",
    "            current = current.next\n",
    "\n",
    "\n",
    "    def clear(self):\n",
    "        self.tail = None\n",
    "        self.head = None\n",
    "\n",
    "\n"
   ],
   "metadata": {
    "collapsed": false,
    "ExecuteTime": {
     "end_time": "2023-12-08T11:39:20.345276700Z",
     "start_time": "2023-12-08T11:39:20.333535200Z"
    }
   }
  },
  {
   "cell_type": "code",
   "execution_count": 12,
   "outputs": [
    {
     "name": "stdout",
     "output_type": "stream",
     "text": [
      "new\n",
      "egg\n",
      "ham\n",
      "spam\n"
     ]
    }
   ],
   "source": [
    "words = singlyLinkedList()\n",
    "words.append('egg')\n",
    "words.append('ham')\n",
    "words.append('spam')\n",
    "\n",
    "# current = words.head\n",
    "# while current:\n",
    "#     print(current.data)\n",
    "#     current = current.next\n",
    "words.append_at_a_location('new',1)\n",
    "current = words.head\n",
    "while current:\n",
    "    print(current.data)\n",
    "    current = current.next"
   ],
   "metadata": {
    "collapsed": false,
    "ExecuteTime": {
     "end_time": "2023-12-08T11:39:20.387524300Z",
     "start_time": "2023-12-08T11:39:20.344213400Z"
    }
   }
  },
  {
   "cell_type": "code",
   "execution_count": 13,
   "outputs": [],
   "source": [
    "words.delete_last_node()"
   ],
   "metadata": {
    "collapsed": false,
    "ExecuteTime": {
     "end_time": "2023-12-08T11:39:20.399843Z",
     "start_time": "2023-12-08T11:39:20.357993700Z"
    }
   }
  },
  {
   "cell_type": "code",
   "execution_count": 14,
   "outputs": [
    {
     "name": "stdout",
     "output_type": "stream",
     "text": [
      "new\n",
      "egg\n",
      "ham\n"
     ]
    }
   ],
   "source": [
    "current = words.head\n",
    "while current:\n",
    "    print(current.data)\n",
    "    current = current.next"
   ],
   "metadata": {
    "collapsed": false,
    "ExecuteTime": {
     "end_time": "2023-12-08T11:39:20.399843Z",
     "start_time": "2023-12-08T11:39:20.374283700Z"
    }
   }
  },
  {
   "cell_type": "code",
   "execution_count": 15,
   "outputs": [
    {
     "name": "stdout",
     "output_type": "stream",
     "text": [
      "new\n",
      "egg\n"
     ]
    }
   ],
   "source": [
    "#Delete intermediate node\n",
    "words.delete(\"ham\")\n",
    "current = words.head\n",
    "while current:\n",
    "    print(current.data)\n",
    "    current = current.next"
   ],
   "metadata": {
    "collapsed": false,
    "ExecuteTime": {
     "end_time": "2023-12-08T11:39:20.409621900Z",
     "start_time": "2023-12-08T11:39:20.392812600Z"
    }
   }
  },
  {
   "cell_type": "code",
   "execution_count": 16,
   "outputs": [],
   "source": [
    "# Doubly Linked List Page 115,117\n",
    "class Node:\n",
    "    def __init__(self,data=None,next=None,prev = None):\n",
    "        self.data = data\n",
    "        self.next = next\n",
    "        self.prev = prev\n",
    "\n",
    "\n",
    "class DoublyLinkedList:\n",
    "    def __init__(self):\n",
    "        self.head = None\n",
    "        self.tail=None\n",
    "        self.size = 0\n",
    "\n",
    "    def append_at_start(self,data):\n",
    "        new_node = Node(data,None,None)\n",
    "        if self.head is None:\n",
    "            self.head = new_node\n",
    "            self.tail = self.head\n",
    "        else:\n",
    "            new_node.next = self.head\n",
    "            self.head.prev = new_node\n",
    "            self.head = new_node\n",
    "\n",
    "        self.size +=1\n",
    "\n",
    "    def append(self,data):\n",
    "        new_node = Node(data,None,None)\n",
    "        if self.tail:\n",
    "            self.tail.next = new_node\n",
    "            new_node.prev=self.tail\n",
    "            self.tail = new_node\n",
    "\n",
    "        else:\n",
    "            self.head = new_node\n",
    "            self.tail = new_node\n",
    "        self.size += 1\n",
    "\n",
    "    def append_at_a_location(self,data):\n",
    "        current = self.head\n",
    "        prev = self.head\n",
    "        new_node = Node(data,None,None)\n",
    "        while current:\n",
    "            if current.data == data:\n",
    "                new_node.prev=prev\n",
    "                new_node.next=current\n",
    "                prev.next = new_node\n",
    "                current.prev=new_node\n",
    "                self.size += 1\n",
    "            prev =current\n",
    "            current = current.next\n",
    "    def iter(self):\n",
    "        current = self.head\n",
    "        while current:\n",
    "            val = current.data\n",
    "            current = current.next\n",
    "            yield val\n",
    "\n",
    "    def contains(self,data):\n",
    "        for node_data in self.iter():\n",
    "            if data == node_data:\n",
    "                print(\"Data is present in list\")\n",
    "                return\n",
    "        print(\"Data item is not present in list\")\n",
    "        return\n",
    "\n",
    "\n",
    "    def delete(self,data):\n",
    "        current = self.head\n",
    "        node_deleted = False\n",
    "        if current is None:\n",
    "            print(\"List is Empty\")\n",
    "\n",
    "        elif current.data == data:\n",
    "            self.head.prev=None\n",
    "            node_deleted=True\n",
    "            self.head = current.next\n",
    "\n",
    "        elif self.tail.data==data:\n",
    "            self.tail=self.tail.prev\n",
    "            self.tail.next = None\n",
    "            node_deleted = True\n",
    "\n",
    "        else:\n",
    "            while current:\n",
    "                if current.data == data:\n",
    "                    current.prev.next = current.next\n",
    "                    current.next.prev = current.prev\n",
    "                    node_deleted = True\n",
    "                current = current.next\n",
    "            if node_deleted == False:\n",
    "                print(\"Item not found\")\n",
    "\n",
    "        if node_deleted:\n",
    "            self.size -= 1\n",
    "\n"
   ],
   "metadata": {
    "collapsed": false,
    "ExecuteTime": {
     "end_time": "2023-12-08T11:39:20.450602600Z",
     "start_time": "2023-12-08T11:39:20.409621900Z"
    }
   }
  },
  {
   "cell_type": "code",
   "execution_count": 17,
   "outputs": [],
   "source": [
    "words = DoublyLinkedList()\n",
    "words.append('egg')\n",
    "words.append('ham')\n",
    "words.append('spam')"
   ],
   "metadata": {
    "collapsed": false,
    "ExecuteTime": {
     "end_time": "2023-12-08T11:39:20.461664300Z",
     "start_time": "2023-12-08T11:39:20.419126200Z"
    }
   }
  },
  {
   "cell_type": "code",
   "execution_count": 18,
   "outputs": [
    {
     "name": "stdout",
     "output_type": "stream",
     "text": [
      "egg\n",
      "ham\n",
      "spam\n"
     ]
    }
   ],
   "source": [
    "current = words.head\n",
    "while current:\n",
    "    print(current.data)\n",
    "    current = current.next"
   ],
   "metadata": {
    "collapsed": false,
    "ExecuteTime": {
     "end_time": "2023-12-08T11:39:20.466685700Z",
     "start_time": "2023-12-08T11:39:20.437134900Z"
    }
   }
  },
  {
   "cell_type": "code",
   "execution_count": 19,
   "outputs": [
    {
     "name": "stdout",
     "output_type": "stream",
     "text": [
      "book\n",
      "egg\n",
      "ham\n",
      "spam\n"
     ]
    }
   ],
   "source": [
    "words.append_at_start('book')\n",
    "current = words.head\n",
    "while current:\n",
    "    print(current.data)\n",
    "    current = current.next"
   ],
   "metadata": {
    "collapsed": false,
    "ExecuteTime": {
     "end_time": "2023-12-08T11:39:20.469179300Z",
     "start_time": "2023-12-08T11:39:20.455122700Z"
    }
   }
  },
  {
   "cell_type": "code",
   "execution_count": 20,
   "outputs": [
    {
     "name": "stdout",
     "output_type": "stream",
     "text": [
      "Data item is not present in list\n"
     ]
    }
   ],
   "source": [
    "words.contains(\"eggs\")"
   ],
   "metadata": {
    "collapsed": false,
    "ExecuteTime": {
     "end_time": "2023-12-08T11:39:20.514564700Z",
     "start_time": "2023-12-08T11:39:20.469179300Z"
    }
   }
  },
  {
   "cell_type": "code",
   "execution_count": 21,
   "outputs": [],
   "source": [
    "#Page 125\n",
    "words.delete(\"book\")"
   ],
   "metadata": {
    "collapsed": false,
    "ExecuteTime": {
     "end_time": "2023-12-08T11:39:20.514564700Z",
     "start_time": "2023-12-08T11:39:20.482687200Z"
    }
   }
  },
  {
   "cell_type": "code",
   "execution_count": 22,
   "outputs": [
    {
     "name": "stdout",
     "output_type": "stream",
     "text": [
      "egg\n",
      "ham\n",
      "spam\n"
     ]
    }
   ],
   "source": [
    "current = words.head\n",
    "while current:\n",
    "    print(current.data)\n",
    "    current = current.next"
   ],
   "metadata": {
    "collapsed": false,
    "ExecuteTime": {
     "end_time": "2023-12-08T11:39:20.522508200Z",
     "start_time": "2023-12-08T11:39:20.500490300Z"
    }
   }
  },
  {
   "cell_type": "code",
   "execution_count": 41,
   "outputs": [],
   "source": [
    "# page 132 Circular list\n",
    "#Circular Linked List\n",
    "class CircularList:\n",
    "    def __init__(self):\n",
    "        self.head = None\n",
    "        self.tail = None\n",
    "        self.size = 0\n",
    "\n",
    "    def append(self,data):\n",
    "        node = Node(data)\n",
    "        if self.tail:\n",
    "            self.tail.next=node\n",
    "            self.tail=node\n",
    "            node.next=self.head\n",
    "        else:\n",
    "            self.head=node\n",
    "            self.tail=node\n",
    "            self.tail.next=self.tail\n",
    "        self.size += 1\n",
    "\n",
    "    def iter(self):\n",
    "        current = self.head\n",
    "        while current:\n",
    "            val = current.data\n",
    "            current = current.next\n",
    "            yield val\n",
    "\n",
    "    def delete(self,data):\n",
    "        current = self.head\n",
    "        prev = self.head\n",
    "        #flag = False\n",
    "        while prev == current or prev != self.tail:\n",
    "            if current.data == data:\n",
    "                if current == self.head:\n",
    "                    self.head = current.next\n",
    "                    self.tail.next = self.head\n",
    "\n",
    "                elif current == self.tail:\n",
    "                    self.tail = prev\n",
    "                    prev.next = self.head\n",
    "\n",
    "                else:\n",
    "                    prev.next = current.next\n",
    "                self.size -= 1\n",
    "                return\n",
    "            prev = current\n",
    "            current = current.next\n",
    "        print(\"Item not present in the list\")"
   ],
   "metadata": {
    "collapsed": false,
    "ExecuteTime": {
     "end_time": "2023-12-08T13:41:49.143194900Z",
     "start_time": "2023-12-08T13:41:49.130973200Z"
    }
   }
  },
  {
   "cell_type": "code",
   "execution_count": 42,
   "outputs": [],
   "source": [
    "words = CircularList()\n",
    "words.append('eggs')\n",
    "words.append('ham')\n",
    "words.append('spam')\n",
    "\n"
   ],
   "metadata": {
    "collapsed": false,
    "ExecuteTime": {
     "end_time": "2023-12-08T13:41:49.915786200Z",
     "start_time": "2023-12-08T13:41:49.909499800Z"
    }
   }
  },
  {
   "cell_type": "code",
   "execution_count": 45,
   "outputs": [
    {
     "name": "stdout",
     "output_type": "stream",
     "text": [
      "eggs\n",
      "spam\n"
     ]
    }
   ],
   "source": [
    "#134\n",
    "\n",
    "counter = 0\n",
    "for word in words.iter():\n",
    "    print(word)\n",
    "    counter += 1\n",
    "    if counter ==words.size :\n",
    "        break"
   ],
   "metadata": {
    "collapsed": false,
    "ExecuteTime": {
     "end_time": "2023-12-08T13:42:51.645205100Z",
     "start_time": "2023-12-08T13:42:51.624750700Z"
    }
   }
  },
  {
   "cell_type": "code",
   "execution_count": 44,
   "outputs": [],
   "source": [
    "words.delete(\"ham\")"
   ],
   "metadata": {
    "collapsed": false,
    "ExecuteTime": {
     "end_time": "2023-12-08T13:41:52.498877900Z",
     "start_time": "2023-12-08T13:41:52.485606700Z"
    }
   }
  },
  {
   "cell_type": "code",
   "execution_count": null,
   "outputs": [],
   "source": [
    "#138\n"
   ],
   "metadata": {
    "collapsed": false
   }
  }
 ],
 "metadata": {
  "kernelspec": {
   "display_name": "Python 3",
   "language": "python",
   "name": "python3"
  },
  "language_info": {
   "codemirror_mode": {
    "name": "ipython",
    "version": 2
   },
   "file_extension": ".py",
   "mimetype": "text/x-python",
   "name": "python",
   "nbconvert_exporter": "python",
   "pygments_lexer": "ipython2",
   "version": "2.7.6"
  }
 },
 "nbformat": 4,
 "nbformat_minor": 0
}
