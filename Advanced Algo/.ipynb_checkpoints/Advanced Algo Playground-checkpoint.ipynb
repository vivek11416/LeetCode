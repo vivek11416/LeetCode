{
 "cells": [
  {
   "cell_type": "code",
   "execution_count": 1,
   "id": "35f32fb5",
   "metadata": {},
   "outputs": [],
   "source": [
    "#Kedanes Algo \n",
    "#Brute force O(n^2)\n",
    "\n",
    "def KABrute(numList):\n",
    "    maxSum = numList[0]\n",
    "    \n",
    "    for i in range(len(numList)):\n",
    "        curSum= 0\n",
    "        \n",
    "        for j in range(i,len(numList)):\n",
    "            curSum += numList[j]\n",
    "            \n",
    "            maxSum = max(curSum,maxSum)\n",
    "    \n",
    "    return maxSum\n",
    "        "
   ]
  },
  {
   "cell_type": "code",
   "execution_count": 2,
   "id": "946e8cf9",
   "metadata": {},
   "outputs": [
    {
     "data": {
      "text/plain": [
       "9"
      ]
     },
     "execution_count": 2,
     "metadata": {},
     "output_type": "execute_result"
    }
   ],
   "source": [
    "KABrute([5,-2,3,-8,4,5])"
   ]
  },
  {
   "cell_type": "code",
   "execution_count": 3,
   "id": "22ff0a7e",
   "metadata": {},
   "outputs": [],
   "source": [
    "#optimized Approch O(n)\n",
    "def KAOpt(numList):\n",
    "    \n",
    "    maxSum = numList[0]\n",
    "    curSum = 0\n",
    "    \n",
    "    for i in range(len(numList)):\n",
    "        curSum = max(curSum,0)\n",
    "        curSum += numList[i]\n",
    "        \n",
    "        maxSum = max(maxSum,curSum)\n",
    "        \n",
    "    return maxSum\n"
   ]
  },
  {
   "cell_type": "code",
   "execution_count": 4,
   "id": "7babd4b7",
   "metadata": {},
   "outputs": [
    {
     "data": {
      "text/plain": [
       "9"
      ]
     },
     "execution_count": 4,
     "metadata": {},
     "output_type": "execute_result"
    }
   ],
   "source": [
    "KAOpt([5,-2,3,-8,4,5])"
   ]
  },
  {
   "cell_type": "code",
   "execution_count": 5,
   "id": "9baad296",
   "metadata": {},
   "outputs": [],
   "source": [
    "#Variation of Kedanes - give me the subarray Index\n",
    "def KAMaxInd(numList):\n",
    "    maxSum = numList[0]\n",
    "    curSum = 0\n",
    "    \n",
    "    maxL ,maxR = 0,0\n",
    "    L=0\n",
    "    \n",
    "    for R in range(len(numList)):\n",
    "        \n",
    "        if curSum < 0 :\n",
    "            L =R\n",
    "            curSum = max(curSum , 0)\n",
    "            \n",
    "        curSum += numList[R]\n",
    "        if curSum > maxSum:\n",
    "            maxSum=max(curSum,maxSum)\n",
    "            maxL,maxR = L,R\n",
    "            \n",
    "    return [maxL,maxR]\n",
    "    "
   ]
  },
  {
   "cell_type": "code",
   "execution_count": 6,
   "id": "7e372486",
   "metadata": {},
   "outputs": [
    {
     "data": {
      "text/plain": [
       "[4, 5]"
      ]
     },
     "execution_count": 6,
     "metadata": {},
     "output_type": "execute_result"
    }
   ],
   "source": [
    "KAMaxInd([5,-2,3,-8,4,5])"
   ]
  },
  {
   "cell_type": "markdown",
   "id": "ce63601d",
   "metadata": {},
   "source": [
    "# Sliding Window 1"
   ]
  },
  {
   "cell_type": "raw",
   "id": "337557b9",
   "metadata": {},
   "source": [
    "# check if a given array contains duplicate elements within a window of size k"
   ]
  },
  {
   "cell_type": "code",
   "execution_count": null,
   "id": "f41cd819",
   "metadata": {},
   "outputs": [],
   "source": []
  }
 ],
 "metadata": {
  "kernelspec": {
   "display_name": "Python 3 (ipykernel)",
   "language": "python",
   "name": "python3"
  },
  "language_info": {
   "codemirror_mode": {
    "name": "ipython",
    "version": 3
   },
   "file_extension": ".py",
   "mimetype": "text/x-python",
   "name": "python",
   "nbconvert_exporter": "python",
   "pygments_lexer": "ipython3",
   "version": "3.9.12"
  }
 },
 "nbformat": 4,
 "nbformat_minor": 5
}
