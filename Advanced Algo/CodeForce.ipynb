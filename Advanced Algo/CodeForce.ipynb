{
 "cells": [
  {
   "cell_type": "raw",
   "id": "0e3f840a",
   "metadata": {},
   "source": [
    "911.B. We Love Even Numbers\n",
    "time limit per test1 second\n",
    "memory limit per test256 megabytes\n",
    "inputstandard input\n",
    "outputstandard output\n",
    "The jury really loves even numbers. Right now we have a number with n\n",
    " digits, but it could be odd. We need to fix this urgently! To do this, you are allowed to perform the following operation exactly once:\n",
    "\n",
    "Take a consecutive set of digits in the number and sort them in non-decreasing order.\n",
    "For example, using this operation on the number 5317\n",
    " can yield the numbers 5137,3517\n",
    ", and 1357\n",
    ". Please make the number even and make the jury happy!\n",
    "\n",
    "Input\n",
    "The first line contains an integer n\n",
    " (1≤n≤103)\n",
    " — the number of digits in the number.\n",
    "\n",
    "The second line contains an integer with n\n",
    " digits. This number does not contain any zeros.\n",
    "\n",
    "Output\n",
    "If you cannot make the jury happy, print «NO».\n",
    "\n",
    "Otherwise, in the first line, print «YES». In the second line, print two integers L,R\n",
    " (1≤L≤R≤n)\n",
    " — the boundaries of the subsegment on which you performed the operation. In the third line, print the number obtained after the operation.\n",
    "\n",
    "If there are multiple possible answers, you can print any of them.\n",
    "\n",
    "Examples\n",
    "inputCopy\n",
    "5\n",
    "43153\n",
    "outputCopy\n",
    "NO\n",
    "inputCopy\n",
    "6\n",
    "654321\n",
    "outputCopy\n",
    "YES\n",
    "1 6\n",
    "123456\n"
   ]
  },
  {
   "cell_type": "code",
   "execution_count": 81,
   "id": "a1a05958",
   "metadata": {},
   "outputs": [],
   "source": [
    "def weLoveEveNum(numInt):\n",
    "    evenList = [str(x) for x in range(1,10) if x%2==0]\n",
    "    nums = list(str(numInt))\n",
    "    isEveBoolList = [True if int(num)%2 ==0 else False for num in nums]\n",
    "    eventStrInd = 0\n",
    "    numsEnd = nums[-1]\n",
    "    if True not in isEveBoolList:\n",
    "        print(\"No\")\n",
    "\n",
    "    if nums[-1] not in evenList:\n",
    "\n",
    "        for i in range(len(nums)-1):\n",
    "            if nums[i] in evenList and nums[i]>nums[i+1]:\n",
    "                eventStrInd = nums[i]\n",
    "                nums[i],nums[i+1] = nums[i+1],nums[i]\n",
    "\n",
    "\n",
    "\n",
    "            \n",
    "    if nums[-1] not in evenList:\n",
    "        print(\"No\")\n",
    "    else:\n",
    "\n",
    "        print(\"Yes \\n\"+f\"{eventStrInd} {numsEnd}\"+\"\\n\"+\"\".join(nums))\n",
    "    \n",
    "            \n",
    "            \n",
    "        \n",
    "    \n",
    "    \n",
    "    \n",
    "    "
   ]
  },
  {
   "cell_type": "code",
   "execution_count": 82,
   "id": "308f2c5e",
   "metadata": {},
   "outputs": [
    {
     "name": "stdout",
     "output_type": "stream",
     "text": [
      "Yes \n",
      "6 1\n",
      "543216\n"
     ]
    }
   ],
   "source": [
    "weLoveEveNum(654321)"
   ]
  },
  {
   "cell_type": "code",
   "execution_count": 84,
   "id": "df568062",
   "metadata": {},
   "outputs": [],
   "source": [
    "import sys\n",
    "s = sys.stdin.read().splitlines()\n",
    "numInt=s[-1]\n",
    "evenList = [str(x) for x in range(1,10) if x%2==0]\n",
    "nums = list(str(numInt))\n",
    "isEveBoolList = [True if int(num)%2 ==0 else False for num in nums]\n",
    "eventStrInd = 0\n",
    "numsEnd = len(numInt)-1\n",
    "if True not in isEveBoolList:\n",
    "    print(\"No\")\n",
    "\n",
    "if nums[-1] not in evenList:\n",
    "\n",
    "    for i in range(len(nums)-1):\n",
    "        if nums[i] in evenList and nums[i]>nums[i+1]:\n",
    "            eventStrInd = i\n",
    "            nums[i],nums[i+1] = nums[i+1],nums[i]\n",
    "\n",
    "\n",
    "\n",
    "\n",
    "if nums[-1] not in evenList:\n",
    "    print(\"NO\")\n",
    "else:\n",
    "\n",
    "    print(\"YES \\n\"+f\"{eventStrInd} {numsEnd}\"+\"\\n\"+\"\".join(nums))\n"
   ]
  },
  {
   "cell_type": "code",
   "execution_count": 85,
   "id": "8d540e0e",
   "metadata": {},
   "outputs": [
    {
     "data": {
      "text/plain": [
       "''"
      ]
     },
     "execution_count": 85,
     "metadata": {},
     "output_type": "execute_result"
    }
   ],
   "source": [
    "s"
   ]
  },
  {
   "cell_type": "code",
   "execution_count": null,
   "id": "a35d586e",
   "metadata": {},
   "outputs": [],
   "source": [
    "[0,0,0,0,0,0,0]\n",
    "['R','R','L','R','R','R','L']"
   ]
  },
  {
   "cell_type": "code",
   "execution_count": null,
   "id": "fdd799ac",
   "metadata": {},
   "outputs": [],
   "source": [
    "rint = lambda: int(input())\n",
    " \n",
    " \n",
    "for _ in range(rint()):\n",
    "    n = rint()\n",
    "    s = input()\n",
    "    res = -1\n",
    "    for i in range(n - 1):\n",
    "        if s[i] == \"R\" and s[i + 1] == \"L\":\n",
    "            res = 0\n",
    "            break\n",
    "        if s[i] == \"L\" and s[i + 1] == \"R\":\n",
    "            res = i + 1\n",
    "    print(res)\n",
    "\n",
    "\n",
    "    \n",
    "        \n",
    "        \n",
    " "
   ]
  }
 ],
 "metadata": {
  "kernelspec": {
   "display_name": "Python 3 (ipykernel)",
   "language": "python",
   "name": "python3"
  },
  "language_info": {
   "codemirror_mode": {
    "name": "ipython",
    "version": 3
   },
   "file_extension": ".py",
   "mimetype": "text/x-python",
   "name": "python",
   "nbconvert_exporter": "python",
   "pygments_lexer": "ipython3",
   "version": "3.9.12"
  }
 },
 "nbformat": 4,
 "nbformat_minor": 5
}
