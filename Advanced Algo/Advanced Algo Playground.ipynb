{
 "cells": [
  {
   "cell_type": "code",
   "execution_count": null,
   "id": "bca5d059",
   "metadata": {},
   "outputs": [],
   "source": [
    "#Given a sorted integer return indices of 2 elements (Different position) \n",
    "#that sum of the target value .Assume there is only one solution"
   ]
  },
  {
   "cell_type": "code",
   "execution_count": 1,
   "id": "35f32fb5",
   "metadata": {},
   "outputs": [],
   "source": [
    "#Kedanes Algo \n",
    "#Brute force O(n^2)\n",
    "\n",
    "def KABrute(numList):\n",
    "    maxSum = numList[0]\n",
    "    \n",
    "    for i in range(len(numList)):\n",
    "        curSum= 0\n",
    "        \n",
    "        for j in range(i,len(numList)):\n",
    "            curSum += numList[j]\n",
    "            \n",
    "            maxSum = max(curSum,maxSum)\n",
    "    \n",
    "    return maxSum\n",
    "        "
   ]
  },
  {
   "cell_type": "code",
   "execution_count": 2,
   "id": "946e8cf9",
   "metadata": {},
   "outputs": [
    {
     "data": {
      "text/plain": [
       "9"
      ]
     },
     "execution_count": 2,
     "metadata": {},
     "output_type": "execute_result"
    }
   ],
   "source": [
    "KABrute([5,-2,3,-8,4,5])"
   ]
  },
  {
   "cell_type": "code",
   "execution_count": 3,
   "id": "22ff0a7e",
   "metadata": {},
   "outputs": [],
   "source": [
    "#optimized Approch O(n)\n",
    "def KAOpt(numList):\n",
    "    \n",
    "    maxSum = numList[0]\n",
    "    curSum = 0\n",
    "    \n",
    "    for i in range(len(numList)):\n",
    "        curSum = max(curSum,0)\n",
    "        curSum += numList[i]\n",
    "        \n",
    "        maxSum = max(maxSum,curSum)\n",
    "        \n",
    "    return maxSum\n"
   ]
  },
  {
   "cell_type": "code",
   "execution_count": 4,
   "id": "7babd4b7",
   "metadata": {},
   "outputs": [
    {
     "data": {
      "text/plain": [
       "9"
      ]
     },
     "execution_count": 4,
     "metadata": {},
     "output_type": "execute_result"
    }
   ],
   "source": [
    "KAOpt([5,-2,3,-8,4,5])"
   ]
  },
  {
   "cell_type": "code",
   "execution_count": 5,
   "id": "9baad296",
   "metadata": {},
   "outputs": [],
   "source": [
    "#Variation of Kedanes - give me the subarray Index\n",
    "def KAMaxInd(numList):\n",
    "    maxSum = numList[0]\n",
    "    curSum = 0\n",
    "    \n",
    "    maxL ,maxR = 0,0\n",
    "    L=0\n",
    "    \n",
    "    for R in range(len(numList)):\n",
    "        \n",
    "        if curSum < 0 :\n",
    "            L =R\n",
    "            curSum = max(curSum , 0)\n",
    "            \n",
    "        curSum += numList[R]\n",
    "        if curSum > maxSum:\n",
    "            maxSum=max(curSum,maxSum)\n",
    "            maxL,maxR = L,R\n",
    "            \n",
    "    return [maxL,maxR]\n",
    "    "
   ]
  },
  {
   "cell_type": "code",
   "execution_count": 6,
   "id": "7e372486",
   "metadata": {},
   "outputs": [
    {
     "data": {
      "text/plain": [
       "[4, 5]"
      ]
     },
     "execution_count": 6,
     "metadata": {},
     "output_type": "execute_result"
    }
   ],
   "source": [
    "KAMaxInd([5,-2,3,-8,4,5])"
   ]
  },
  {
   "cell_type": "markdown",
   "id": "dfed13cd",
   "metadata": {},
   "source": [
    "# Sliding Window 1"
   ]
  },
  {
   "cell_type": "raw",
   "id": "63f172a4",
   "metadata": {},
   "source": [
    "# check if a given array contains duplicate elements within a window of size k"
   ]
  },
  {
   "cell_type": "code",
   "execution_count": 2,
   "id": "b0d9e15f",
   "metadata": {},
   "outputs": [],
   "source": [
    "# O(n.k)\n",
    "def checkKWindow(k,numList):\n",
    "    for i in range(len(numList)):\n",
    "        for j in range(i+1,min(i+k,len(numList))):\n",
    "            if numList[i] == numList[j]:\n",
    "                return True\n",
    "    return False"
   ]
  },
  {
   "cell_type": "code",
   "execution_count": 4,
   "id": "c9ca6988",
   "metadata": {},
   "outputs": [
    {
     "data": {
      "text/plain": [
       "False"
      ]
     },
     "execution_count": 4,
     "metadata": {},
     "output_type": "execute_result"
    }
   ],
   "source": [
    "checkKWindow(4,[1,4,3,2,7,9])"
   ]
  },
  {
   "cell_type": "code",
   "execution_count": null,
   "id": "3325f473",
   "metadata": {},
   "outputs": [],
   "source": [
    "def checkKWindowOp(k,numList):\n",
    "    itemSet = set()\n",
    "    L=0\n",
    "    \n",
    "    #[1,L2,3,4,R5,6]\n",
    "    \n",
    "    for R in range(len(numList)):\n",
    "        if R-L +1>k:\n",
    "            itemSet.remove(numList[L])\n",
    "            L += 1\n",
    "        if numList[R] in itemSet:\n",
    "            return True\n",
    "        itemSet.add(numList[R])\n",
    "    \n",
    "    return False"
   ]
  },
  {
   "cell_type": "markdown",
   "id": "1b864f0c",
   "metadata": {},
   "source": [
    "# Sliding Window 2"
   ]
  },
  {
   "cell_type": "code",
   "execution_count": 1,
   "id": "90603cf5",
   "metadata": {},
   "outputs": [],
   "source": [
    "#find the length of longest suarray with the same value in each position O(n)\n",
    "\n",
    "def longestSubArray(nums):\n",
    "    lent = 0\n",
    "    L= 0\n",
    "    \n",
    "    for R in range(len(nums)):\n",
    "        if nums[L] != nums[R]:\n",
    "            L=R\n",
    "            \n",
    "        lent = max(lent,R-L +1)\n",
    "    return lent"
   ]
  },
  {
   "cell_type": "code",
   "execution_count": 2,
   "id": "db7226f0",
   "metadata": {},
   "outputs": [
    {
     "data": {
      "text/plain": [
       "3"
      ]
     },
     "execution_count": 2,
     "metadata": {},
     "output_type": "execute_result"
    }
   ],
   "source": [
    "longestSubArray([5,1,1,9,9,9])"
   ]
  },
  {
   "cell_type": "code",
   "execution_count": 9,
   "id": "d485fa30",
   "metadata": {},
   "outputs": [],
   "source": [
    "#Find the len of minimum size subarray where the sum is greater than or equal to the target: O(n)\n",
    "\n",
    "def shortestSubarray(nums,target):\n",
    "    L,total = 0,0\n",
    "    length = len(nums)+1 #float(\"inf\") # \n",
    "    \n",
    "    for R in range(len(nums)):\n",
    "        total += nums[R]\n",
    "        \n",
    "        while total >= target:\n",
    "            length = min(R-L+1,length)\n",
    "            total -= nums[L]\n",
    "            L+=1\n",
    "            \n",
    "    return 0 if length == len(nums)+1 else length\n",
    "    \n",
    "\n"
   ]
  },
  {
   "cell_type": "code",
   "execution_count": 10,
   "id": "008d1c1c",
   "metadata": {},
   "outputs": [
    {
     "data": {
      "text/plain": [
       "2"
      ]
     },
     "execution_count": 10,
     "metadata": {},
     "output_type": "execute_result"
    }
   ],
   "source": [
    "shortestSubarray([3,4,6,7,2,5,1],8)"
   ]
  },
  {
   "cell_type": "markdown",
   "id": "0083e10d",
   "metadata": {},
   "source": [
    "# Two Pointers"
   ]
  },
  {
   "cell_type": "code",
   "execution_count": 11,
   "id": "386b9aa5",
   "metadata": {},
   "outputs": [],
   "source": [
    "#Check if a palindrome\n",
    "\n",
    "def isPalindrome(word):\n",
    "    L,R=0,len(word)-1\n",
    "    while L < R:\n",
    "        if word[L] != word[R]:\n",
    "            return false\n",
    "        L += 1\n",
    "        R -= 1\n",
    "    \n",
    "    return True     "
   ]
  },
  {
   "cell_type": "code",
   "execution_count": 12,
   "id": "362f003c",
   "metadata": {},
   "outputs": [
    {
     "data": {
      "text/plain": [
       "True"
      ]
     },
     "execution_count": 12,
     "metadata": {},
     "output_type": "execute_result"
    }
   ],
   "source": [
    "isPalindrome(\"123321\")"
   ]
  },
  {
   "cell_type": "code",
   "execution_count": 13,
   "id": "4a617277",
   "metadata": {},
   "outputs": [],
   "source": [
    "#Given a sorted integer return indices of 2 elements (Different position) \n",
    "#that sum of the target value .Assume there is only one solution\n",
    "def targetSum(nums,target):\n",
    "    L,R = 0,len(nums) -1\n",
    "    while L < R:\n",
    "        if nums[L] + nums[R] > target:\n",
    "            R -= 1\n",
    "        elif nums[L] + nums[R] < target:\n",
    "            L += 1\n",
    "        else:\n",
    "            return [L,R]\n",
    "    \n",
    "    \n"
   ]
  },
  {
   "cell_type": "code",
   "execution_count": 14,
   "id": "4f71240b",
   "metadata": {},
   "outputs": [
    {
     "data": {
      "text/plain": [
       "[2, 3]"
      ]
     },
     "execution_count": 14,
     "metadata": {},
     "output_type": "execute_result"
    }
   ],
   "source": [
    "targetSum([-1,2,3,4,7,9],7)"
   ]
  },
  {
   "cell_type": "code",
   "execution_count": null,
   "id": "d03b77d9",
   "metadata": {},
   "outputs": [],
   "source": []
  }
 ],
 "metadata": {
  "kernelspec": {
   "display_name": "Python 3 (ipykernel)",
   "language": "python",
   "name": "python3"
  },
  "language_info": {
   "codemirror_mode": {
    "name": "ipython",
    "version": 3
   },
   "file_extension": ".py",
   "mimetype": "text/x-python",
   "name": "python",
   "nbconvert_exporter": "python",
   "pygments_lexer": "ipython3",
   "version": "3.9.12"
  }
 },
 "nbformat": 4,
 "nbformat_minor": 5
}
