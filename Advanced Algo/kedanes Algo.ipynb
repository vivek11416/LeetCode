{
 "cells": [
  {
   "cell_type": "markdown",
   "id": "96aec30b",
   "metadata": {},
   "source": [
    "#========================Kedanes Algo========================"
   ]
  },
  {
   "cell_type": "markdown",
   "id": "ffa0c1ac",
   "metadata": {},
   "source": [
    "#non empty subarray with largest sum"
   ]
  },
  {
   "cell_type": "code",
   "execution_count": 1,
   "id": "3ec43827",
   "metadata": {
    "scrolled": true
   },
   "outputs": [
    {
     "data": {
      "text/plain": [
       "[5, -2, 3, -8, 4, 5]"
      ]
     },
     "execution_count": 1,
     "metadata": {},
     "output_type": "execute_result"
    }
   ],
   "source": [
    "[5,-2,3,-8,4,5]"
   ]
  },
  {
   "cell_type": "code",
   "execution_count": 6,
   "id": "e863dcbe",
   "metadata": {},
   "outputs": [],
   "source": [
    "#Brute force O(n2)\n",
    "\n",
    "def KABrute(numList):\n",
    "    maxSum = numList[0]\n",
    "    \n",
    "    for i in range(len(numList)):\n",
    "        curSum = 0\n",
    "        for j in range(i,len(numList)):\n",
    "            curSum+=numList[j]\n",
    "            \n",
    "            maxSum = max(curSum,maxSum)\n",
    "            \n",
    "    return maxSum"
   ]
  },
  {
   "cell_type": "code",
   "execution_count": 10,
   "id": "a4b0f8bf",
   "metadata": {},
   "outputs": [
    {
     "data": {
      "text/plain": [
       "9"
      ]
     },
     "execution_count": 10,
     "metadata": {},
     "output_type": "execute_result"
    }
   ],
   "source": [
    "KABrute([5,-2,3,-8,4,5])"
   ]
  },
  {
   "cell_type": "code",
   "execution_count": 11,
   "id": "8393dfaf",
   "metadata": {},
   "outputs": [],
   "source": [
    "# Kedanes Algo O(n)\n",
    "\n",
    "def KAOpt(numList):\n",
    "    \n",
    "    maxSum = numList[0]\n",
    "    curSum = 0\n",
    "    \n",
    "    for i in range(len(numList)):\n",
    "        curSum = max(curSum,0)\n",
    "        curSum += numList[i]\n",
    "        \n",
    "        maxSum = max(curSum,maxSum)\n",
    "    \n",
    "    return maxSum"
   ]
  },
  {
   "cell_type": "code",
   "execution_count": 12,
   "id": "2423525c",
   "metadata": {},
   "outputs": [
    {
     "data": {
      "text/plain": [
       "9"
      ]
     },
     "execution_count": 12,
     "metadata": {},
     "output_type": "execute_result"
    }
   ],
   "source": [
    "KAOpt([5,-2,3,-8,4,5])"
   ]
  },
  {
   "cell_type": "code",
   "execution_count": 19,
   "id": "30b99df2",
   "metadata": {},
   "outputs": [],
   "source": [
    "# variation of Kedanes's -  find the index of subarray with max sum\n",
    "\n",
    "def KAMaxInd(numList):\n",
    "    maxSum = numList[0]\n",
    "    curSum = 0\n",
    "    maxL,maxR = 0,0\n",
    "    L=0\n",
    "    \n",
    "    for R in range(len(numList)):\n",
    "        if curSum < 0:\n",
    "            L = R\n",
    "            curSum = max(curSum,0)\n",
    "            \n",
    "        curSum += numList[R]\n",
    "        if curSum > maxSum:\n",
    "            maxSum = max(curSum,maxSum)\n",
    "            maxL,maxR = L,R\n",
    "        \n",
    "    return [maxL,maxR]\n",
    "        "
   ]
  },
  {
   "cell_type": "code",
   "execution_count": 20,
   "id": "f197b4fd",
   "metadata": {},
   "outputs": [
    {
     "data": {
      "text/plain": [
       "[4, 5]"
      ]
     },
     "execution_count": 20,
     "metadata": {},
     "output_type": "execute_result"
    }
   ],
   "source": [
    "KAMaxInd([5,-2,3,-8,8,9])"
   ]
  },
  {
   "cell_type": "markdown",
   "id": "ad91f677",
   "metadata": {},
   "source": [
    "#===================Sliding Window-1 ==========================="
   ]
  },
  {
   "cell_type": "markdown",
   "id": "ab279e95",
   "metadata": {},
   "source": [
    "#Check if a given array contains duplicate elements within a window of size K"
   ]
  },
  {
   "cell_type": "code",
   "execution_count": 23,
   "id": "56dd8b2d",
   "metadata": {},
   "outputs": [],
   "source": [
    "#Brute Force O(n*k)\n",
    "def checkKWinDup(k,numList):\n",
    "    for i in range(len(numList)):\n",
    "        for j in range(i+1,min(i+k,len(numList))):\n",
    "            if numList[i] == numList[j]:\n",
    "                return True\n",
    "            \n",
    "    return False\n",
    "            \n",
    "    "
   ]
  },
  {
   "cell_type": "code",
   "execution_count": 26,
   "id": "398f68fd",
   "metadata": {},
   "outputs": [
    {
     "data": {
      "text/plain": [
       "False"
      ]
     },
     "execution_count": 26,
     "metadata": {},
     "output_type": "execute_result"
    }
   ],
   "source": [
    "checkKWinDup(4,[1,4,3,2,7,9])"
   ]
  },
  {
   "cell_type": "code",
   "execution_count": 32,
   "id": "56001116",
   "metadata": {},
   "outputs": [],
   "source": [
    "# O(n)\n",
    "\n",
    "def checkKWinDupOp(k,numList):\n",
    "    itemSet = set()\n",
    "    L=0\n",
    "    \n",
    "    for R in range(len(numList)):\n",
    "        if R - L + 1 > k:\n",
    "            itemSet.remove(numList[L])\n",
    "            L +=1\n",
    "        if numList[R] in itemSet:\n",
    "            return True\n",
    "        itemSet.add(numList[R])\n",
    "        \n",
    "    return False\n",
    "            \n",
    "        "
   ]
  },
  {
   "cell_type": "code",
   "execution_count": 33,
   "id": "e2b54860",
   "metadata": {},
   "outputs": [
    {
     "data": {
      "text/plain": [
       "True"
      ]
     },
     "execution_count": 33,
     "metadata": {},
     "output_type": "execute_result"
    }
   ],
   "source": [
    "checkKWinDupOp(4,[1,3,3,2,7,9])"
   ]
  },
  {
   "cell_type": "markdown",
   "id": "331cf2d0",
   "metadata": {},
   "source": [
    "#===================Sliding Window-2 ==========================="
   ]
  },
  {
   "cell_type": "markdown",
   "id": "d0f72662",
   "metadata": {},
   "source": [
    "#Length of longest subarray with same value in each position"
   ]
  },
  {
   "cell_type": "code",
   "execution_count": null,
   "id": "4959f02c",
   "metadata": {},
   "outputs": [],
   "source": [
    "[4,2,2,3,3,3]"
   ]
  },
  {
   "cell_type": "code",
   "execution_count": 45,
   "id": "76216934",
   "metadata": {},
   "outputs": [],
   "source": [
    "def longDupStr(numList):\n",
    "    maxLen = 0\n",
    "    \n",
    "    currValue = 0\n",
    "    for p in range(1,len(numList)):\n",
    "        if numList[p] == numList[currValue]:\n",
    "            \n",
    "            maxLen = max(maxLen,p-currValue+1)\n",
    "        \n",
    "        else:\n",
    "            currValue = p\n",
    "    \n",
    "    return maxLen\n",
    "        "
   ]
  },
  {
   "cell_type": "code",
   "execution_count": 48,
   "id": "77791857",
   "metadata": {},
   "outputs": [
    {
     "data": {
      "text/plain": [
       "2"
      ]
     },
     "execution_count": 48,
     "metadata": {},
     "output_type": "execute_result"
    }
   ],
   "source": [
    "longDupStr([4,4])"
   ]
  },
  {
   "cell_type": "markdown",
   "id": "e2b2724a",
   "metadata": {},
   "source": [
    "#Smallest subarray with sum greater than a given value, when all elements are positive"
   ]
  },
  {
   "cell_type": "code",
   "execution_count": 49,
   "id": "49793f3b",
   "metadata": {},
   "outputs": [],
   "source": [
    "[2,3,1,2,4,3]\n",
    "target = 6"
   ]
  },
  {
   "cell_type": "code",
   "execution_count": 61,
   "id": "71ab936c",
   "metadata": {},
   "outputs": [],
   "source": [
    "#O(2.n) Inner while loop will not always execute\n",
    "# inner loop only runs n times , not n times for each outher value that gives 2.n i.e n\n",
    "def shorteSubArra(nums,target):\n",
    "    L,total = 0,0\n",
    "    minLen = len(nums) + 1\n",
    "    \n",
    "    for R in range(len(nums)):\n",
    "        total += nums[R]\n",
    "        while total >= target:\n",
    "            minLen = min(minLen,R-L+1)\n",
    "            total -= nums[L]\n",
    "            L += 1\n",
    "    \n",
    "    return 0 if minLen == (len(nums) + 1) else minLen"
   ]
  },
  {
   "cell_type": "code",
   "execution_count": 60,
   "id": "2715cd5b",
   "metadata": {},
   "outputs": [
    {
     "data": {
      "text/plain": [
       "2"
      ]
     },
     "execution_count": 60,
     "metadata": {},
     "output_type": "execute_result"
    }
   ],
   "source": [
    "shorteSubArra([2,3,1,2,4,3],6)"
   ]
  },
  {
   "cell_type": "code",
   "execution_count": null,
   "id": "3653628f",
   "metadata": {},
   "outputs": [],
   "source": []
  }
 ],
 "metadata": {
  "kernelspec": {
   "display_name": "Python 3 (ipykernel)",
   "language": "python",
   "name": "python3"
  },
  "language_info": {
   "codemirror_mode": {
    "name": "ipython",
    "version": 3
   },
   "file_extension": ".py",
   "mimetype": "text/x-python",
   "name": "python",
   "nbconvert_exporter": "python",
   "pygments_lexer": "ipython3",
   "version": "3.9.12"
  }
 },
 "nbformat": 4,
 "nbformat_minor": 5
}
